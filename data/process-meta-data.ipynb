{
 "cells": [
  {
   "cell_type": "code",
   "execution_count": 1,
   "metadata": {},
   "outputs": [],
   "source": [
    "from sklearn.decomposition import PCA\n",
    "import pandas as pd\n",
    "import os\n",
    "import json\n",
    "import numpy as np"
   ]
  },
  {
   "cell_type": "code",
   "execution_count": 2,
   "metadata": {},
   "outputs": [],
   "source": [
    "directoy = \"cleaned-data\""
   ]
  },
  {
   "cell_type": "code",
   "execution_count": 3,
   "metadata": {},
   "outputs": [],
   "source": [
    "files = os.listdir(directoy)"
   ]
  },
  {
   "cell_type": "code",
   "execution_count": 4,
   "metadata": {},
   "outputs": [
    {
     "data": {
      "text/plain": [
       "['abalone-cleaned.csv',\n",
       " 'column_2C.csv',\n",
       " 'column_3C.csv',\n",
       " 'data_banknote_authentication.csv',\n",
       " 'ecoli.csv',\n",
       " 'mammographic_masses-cleaned.csv',\n",
       " 'seed.csv',\n",
       " 'SomervilleHappinessSurvey2015-cleaned.csv',\n",
       " 'transfusion.csv',\n",
       " 'user-knowledge.csv']"
      ]
     },
     "execution_count": 4,
     "metadata": {},
     "output_type": "execute_result"
    }
   ],
   "source": [
    "files"
   ]
  },
  {
   "cell_type": "code",
   "execution_count": 5,
   "metadata": {},
   "outputs": [],
   "source": [
    "import math\n",
    "def calculateEntropy(x):\n",
    "    counter = {}\n",
    "    for i in x:\n",
    "        counter[i]  = counter.get(i, 0) + 1\n",
    "    entropy = 0\n",
    "    log = math.log2\n",
    "    n = len(x)\n",
    "    for key in counter:\n",
    "        p = counter[key]/n\n",
    "        entropy = entropy - (p * log(p))\n",
    "    return entropy"
   ]
  },
  {
   "cell_type": "code",
   "execution_count": 6,
   "metadata": {},
   "outputs": [
    {
     "name": "stdout",
     "output_type": "stream",
     "text": [
      "abalone-cleaned.csv\n",
      "results-metadata/abalone-cleaned-meta.json\n",
      "column_2C.csv\n",
      "results-metadata/column_2C-meta.json\n",
      "column_3C.csv\n",
      "results-metadata/column_3C-meta.json\n",
      "data_banknote_authentication.csv\n",
      "results-metadata/data_banknote_authentication-meta.json\n",
      "ecoli.csv\n",
      "results-metadata/ecoli-meta.json\n",
      "mammographic_masses-cleaned.csv\n",
      "results-metadata/mammographic_masses-cleaned-meta.json\n",
      "seed.csv\n",
      "results-metadata/seed-meta.json\n",
      "SomervilleHappinessSurvey2015-cleaned.csv\n",
      "results-metadata/SomervilleHappinessSurvey2015-cleaned-meta.json\n",
      "transfusion.csv\n",
      "results-metadata/transfusion-meta.json\n",
      "user-knowledge.csv\n",
      "results-metadata/user-knowledge-meta.json\n"
     ]
    }
   ],
   "source": [
    "for file in files:\n",
    "    print(file)\n",
    "    file_name = os.path.join(directoy, file)\n",
    "    df = pd.read_csv(file_name)\n",
    "    x = df.iloc[:,:-1]\n",
    "    y = df.iloc[:,-1]\n",
    "    res = {}\n",
    "    res[\"class_int\"] = len(set(y))/(x.shape[0])\n",
    "    res[\"attr_class\"] = (x.shape[1])/len(set(y))\n",
    "    pca = PCA(4)\n",
    "    x = pca.fit_transform(x)\n",
    "    df_x = pd.DataFrame(data = x)\n",
    "    skew = df_x.skew()\n",
    "    for i in range(4):\n",
    "        res[\"skewnes_\" + str(i)] = skew[i]\n",
    "    description = df_x.describe()\n",
    "    for i in range(4):\n",
    "        res[\"mean_\"+str(i)] = description.loc['mean', i]\n",
    "    for i in range(4):\n",
    "        res[\"std_\"+str(i)] = description.loc['std', i]\n",
    "    for i in range(4):\n",
    "        res[\"median_\"+str(i)] = np.median(x[:, i])\n",
    "    y = y.values\n",
    "    res[\"class_entropy\"] = calculateEntropy(y)\n",
    "#     print(res)\n",
    "    file_name = file[:-4] + \"-meta\"\n",
    "    file_json_name = file_name + \".json\"\n",
    "    print(\"results-metadata/\" + file_json_name)\n",
    "    with open(\"results-metadata/\" + file_json_name, \"w+\") as f:\n",
    "        json.dump(res, f)"
   ]
  }
 ],
 "metadata": {
  "kernelspec": {
   "display_name": "Python 3",
   "language": "python",
   "name": "python3"
  },
  "language_info": {
   "codemirror_mode": {
    "name": "ipython",
    "version": 3
   },
   "file_extension": ".py",
   "mimetype": "text/x-python",
   "name": "python",
   "nbconvert_exporter": "python",
   "pygments_lexer": "ipython3",
   "version": "3.7.0"
  }
 },
 "nbformat": 4,
 "nbformat_minor": 2
}
